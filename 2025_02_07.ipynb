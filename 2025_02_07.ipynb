{
  "nbformat": 4,
  "nbformat_minor": 0,
  "metadata": {
    "colab": {
      "provenance": [],
      "collapsed_sections": [
        "B7tT_Vq5udJ9",
        "eBUpOP59wqxu",
        "6OWppyma3e0g"
      ],
      "toc_visible": true,
      "authorship_tag": "ABX9TyPqy7l+rFL95ZiQB7tCh5Ic",
      "include_colab_link": true
    },
    "kernelspec": {
      "name": "python3",
      "display_name": "Python 3"
    },
    "language_info": {
      "name": "python"
    }
  },
  "cells": [
    {
      "cell_type": "markdown",
      "metadata": {
        "id": "view-in-github",
        "colab_type": "text"
      },
      "source": [
        "<a href=\"https://colab.research.google.com/github/mateenkhadem/College-Algebra/blob/main/2025_02_07.ipynb\" target=\"_parent\"><img src=\"https://colab.research.google.com/assets/colab-badge.svg\" alt=\"Open In Colab\"/></a>"
      ]
    },
    {
      "cell_type": "markdown",
      "source": [
        "Here are A few algebraic equations I have taken from ChatGPT to solve using SymPy in Google Colab. Each equation is structured in a way that you can easily plug it into your existing code. ChatGPT has provided a variety of linear equations, quadratic equations, and some simple polynomial equations to give you a broad range of problems.\n",
        "\n"
      ],
      "metadata": {
        "id": "leM2D741uG40"
      }
    },
    {
      "cell_type": "markdown",
      "source": [
        "## Linear Equations\n"
      ],
      "metadata": {
        "id": "B7tT_Vq5udJ9"
      }
    },
    {
      "cell_type": "markdown",
      "source": [
        "5*x - 15 = 0\n"
      ],
      "metadata": {
        "id": "YpRSZtg-ul1c"
      }
    },
    {
      "cell_type": "code",
      "source": [
        "import sympy\n",
        "from sympy import symbols, Eq, solve\n",
        "\n",
        "x = symbols('x')\n",
        "equation = Eq(5*x - 15, 0)\n",
        "solution = solve(equation, x)\n",
        "print(solution)"
      ],
      "metadata": {
        "colab": {
          "base_uri": "https://localhost:8080/"
        },
        "id": "LIJf7oFPuqIk",
        "outputId": "3c95afa9-5d73-4247-80f6-5e37aec5b223"
      },
      "execution_count": 6,
      "outputs": [
        {
          "output_type": "stream",
          "name": "stdout",
          "text": [
            "[3]\n"
          ]
        }
      ]
    },
    {
      "cell_type": "markdown",
      "source": [
        "3*x + 9 = 0\n"
      ],
      "metadata": {
        "id": "kdJ1_kaCvGUR"
      }
    },
    {
      "cell_type": "code",
      "source": [
        "import sympy\n",
        "from sympy import symbols, Eq, solve\n",
        "\n",
        "x = symbols('x')\n",
        "equation = Eq(3*x + 9, 0)\n",
        "solution = solve(equation, x)\n",
        "print(solution)"
      ],
      "metadata": {
        "colab": {
          "base_uri": "https://localhost:8080/"
        },
        "id": "SXnW6luuvLmr",
        "outputId": "3fa83e91-e089-422f-a175-3fabedca241c"
      },
      "execution_count": 8,
      "outputs": [
        {
          "output_type": "stream",
          "name": "stdout",
          "text": [
            "[-3]\n"
          ]
        }
      ]
    },
    {
      "cell_type": "markdown",
      "source": [
        "7*x - 21 = 0\n"
      ],
      "metadata": {
        "id": "LRWmHJAiwE5O"
      }
    },
    {
      "cell_type": "code",
      "source": [
        "import sympy\n",
        "from sympy import symbols, Eq, solve\n",
        "\n",
        "x = symbols('x')\n",
        "equation = Eq(7*x - 21, 0)\n",
        "solution = solve(equation, x)\n",
        "print(solution)"
      ],
      "metadata": {
        "colab": {
          "base_uri": "https://localhost:8080/"
        },
        "id": "GLc3iCRdwGxW",
        "outputId": "d16af385-043c-4427-8908-6861c9f3e68b"
      },
      "execution_count": 9,
      "outputs": [
        {
          "output_type": "stream",
          "name": "stdout",
          "text": [
            "[3]\n"
          ]
        }
      ]
    },
    {
      "cell_type": "markdown",
      "source": [
        "2*x + 8 = 0"
      ],
      "metadata": {
        "id": "ImmRgurpwSHe"
      }
    },
    {
      "cell_type": "code",
      "source": [
        "import sympy\n",
        "from sympy import symbols, Eq, solve\n",
        "\n",
        "x = symbols('x')\n",
        "equation = Eq(2*x + 8, 0)\n",
        "solution = solve(equation, x)\n",
        "print(solution)\n"
      ],
      "metadata": {
        "colab": {
          "base_uri": "https://localhost:8080/"
        },
        "id": "SIEYBmKMwbDv",
        "outputId": "d6ace854-e73b-42bb-876a-2f0790812656"
      },
      "execution_count": 10,
      "outputs": [
        {
          "output_type": "stream",
          "name": "stdout",
          "text": [
            "[-4]\n"
          ]
        }
      ]
    },
    {
      "cell_type": "markdown",
      "source": [
        "4*x - 20 = 0"
      ],
      "metadata": {
        "id": "FHHvLVszwfoI"
      }
    },
    {
      "cell_type": "code",
      "source": [
        "import sympy\n",
        "from sympy import symbols, Eq, solve\n",
        "\n",
        "x = symbols('x')\n",
        "equation = Eq(4*x - 20, 0)\n",
        "solution = solve(equation, x)\n",
        "print(solution)"
      ],
      "metadata": {
        "colab": {
          "base_uri": "https://localhost:8080/"
        },
        "id": "w2XMeXJNwjcS",
        "outputId": "7f1481ab-b3d4-432e-e918-3c3ed227b1a8"
      },
      "execution_count": 11,
      "outputs": [
        {
          "output_type": "stream",
          "name": "stdout",
          "text": [
            "[5]\n"
          ]
        }
      ]
    },
    {
      "cell_type": "markdown",
      "source": [
        "## Quadratic Equations"
      ],
      "metadata": {
        "id": "eBUpOP59wqxu"
      }
    },
    {
      "cell_type": "markdown",
      "source": [
        "x^2 - 5*x + 6 = 0\n"
      ],
      "metadata": {
        "id": "gCUoQmk8xBQm"
      }
    },
    {
      "cell_type": "code",
      "source": [
        "import sympy\n",
        "from sympy import symbols, Eq, solve\n",
        "\n",
        "x = symbols('x')\n",
        "equation = Eq(x**2 - 5*x + 6, 0)\n",
        "solution = solve(equation, x)\n",
        "print(solution)"
      ],
      "metadata": {
        "id": "GLMoBRTCw-i1"
      },
      "execution_count": null,
      "outputs": []
    },
    {
      "cell_type": "markdown",
      "source": [
        "x^2 + 4*x + 4 = 0\n"
      ],
      "metadata": {
        "id": "EirTkCakxHWe"
      }
    },
    {
      "cell_type": "code",
      "source": [
        "import sympy\n",
        "from sympy import symbols,Eq,solve\n",
        "\n",
        "x = symbols('x')\n",
        "equation = Eq(x**2 + 4*x + 4, 0)\n",
        "solution = solve(equation, x)\n",
        "print(solution)"
      ],
      "metadata": {
        "colab": {
          "base_uri": "https://localhost:8080/"
        },
        "id": "tyRtCmo5xJNY",
        "outputId": "7bbb0033-7d77-4133-92f0-d63c1d13ccf4"
      },
      "execution_count": 12,
      "outputs": [
        {
          "output_type": "stream",
          "name": "stdout",
          "text": [
            "[-2]\n"
          ]
        }
      ]
    },
    {
      "cell_type": "markdown",
      "source": [
        "x^2 - 9 = 0\n"
      ],
      "metadata": {
        "id": "O_oR818RxyyA"
      }
    },
    {
      "cell_type": "code",
      "source": [
        "import sympy\n",
        "from sympy import symbols, Eq, solve\n",
        "\n",
        "x = symbols('x')\n",
        "equation = Eq(x**2 - 9, 0)\n",
        "solution = solve(equation, x)\n",
        "print(solution)"
      ],
      "metadata": {
        "id": "NrIZh1-Bx1pl"
      },
      "execution_count": null,
      "outputs": []
    },
    {
      "cell_type": "markdown",
      "source": [
        "2x^2 - 8x + 6 = 0\n"
      ],
      "metadata": {
        "id": "4lSoqHujx5sJ"
      }
    },
    {
      "cell_type": "code",
      "source": [
        "import sympy\n",
        "from sympy import symbols, Eq, solve\n",
        "\n",
        "x = symbols('x')\n",
        "equation = Eq(2*x**2 - 8*x + 6, 0)\n",
        "solution = solve(equation, x)\n",
        "print(solution)"
      ],
      "metadata": {
        "id": "Hl4WOZz2x8J0"
      },
      "execution_count": null,
      "outputs": []
    },
    {
      "cell_type": "markdown",
      "source": [
        "x^2 + 2*x - 3 = 0\n"
      ],
      "metadata": {
        "id": "FMUfksFyyA20"
      }
    },
    {
      "cell_type": "code",
      "source": [
        "import sympy\n",
        "from sympy import symbols, Eq, solve\n",
        "\n",
        "x = symbols('x')\n",
        "equation = Eq(x**2 + 2*x - 3, 0)\n",
        "solution = solve(equation, x)\n",
        "print(solution)"
      ],
      "metadata": {
        "id": "mD9S-3MuyClH"
      },
      "execution_count": null,
      "outputs": []
    },
    {
      "cell_type": "markdown",
      "source": [
        "## Simplifying\n",
        "in the following problems I want to simplify the equations so that we have x on one side and y and the rest of the equation on the other"
      ],
      "metadata": {
        "id": "6OWppyma3e0g"
      }
    },
    {
      "cell_type": "markdown",
      "source": [
        "3x+4y=12\n"
      ],
      "metadata": {
        "id": "fh35Lmpe3lQk"
      }
    },
    {
      "cell_type": "code",
      "source": [
        "import sympy\n",
        "from sympy import symbols, Eq, solve\n",
        "\n",
        "x, y = symbols('x y')\n",
        "equation = Eq(3*x + 4*y, 12)\n",
        "solution = solve(equation, x)\n",
        "print(solution)"
      ],
      "metadata": {
        "colab": {
          "base_uri": "https://localhost:8080/"
        },
        "id": "WxfF-_uQ3mht",
        "outputId": "a8d88e69-1523-4826-b8fa-65b5c9306d49"
      },
      "execution_count": 13,
      "outputs": [
        {
          "output_type": "stream",
          "name": "stdout",
          "text": [
            "[4 - 4*y/3]\n"
          ]
        }
      ]
    },
    {
      "cell_type": "markdown",
      "source": [
        "5x−2y+10=0\n"
      ],
      "metadata": {
        "id": "IrDo_3aA4b4x"
      }
    },
    {
      "cell_type": "code",
      "source": [
        "import sympy\n",
        "from sympy import symbols, Eq, solve\n",
        "\n",
        "x, y = symbols('x y')\n",
        "equation = (5*x - 2*y + 10, 0)\n",
        "solution = solve(equation, x)\n",
        "print(solution)"
      ],
      "metadata": {
        "colab": {
          "base_uri": "https://localhost:8080/"
        },
        "id": "98FAy1Sb3hXR",
        "outputId": "8c7b1733-5127-4d5e-f7f2-895e488b5fdb"
      },
      "execution_count": 14,
      "outputs": [
        {
          "output_type": "stream",
          "name": "stdout",
          "text": [
            "{x: 2*y/5 - 2}\n"
          ]
        }
      ]
    },
    {
      "cell_type": "markdown",
      "source": [
        "## Getting Factor of an Equation\n"
      ],
      "metadata": {
        "id": "f5NXm1065m78"
      }
    },
    {
      "cell_type": "code",
      "source": [
        "import sympy\n",
        "from sympy import symbols\n",
        "import sympy\n",
        "from sympy import symbols, var\n",
        "\n",
        "var('x')\n",
        "equation = 2**x - 12 + 4*x**2\n",
        "sympy.factor(equation)"
      ],
      "metadata": {
        "colab": {
          "base_uri": "https://localhost:8080/",
          "height": 38
        },
        "id": "TgF2R2R45tM3",
        "outputId": "4ff55c7c-0620-443f-d3ee-6a7d8e51b5a3"
      },
      "execution_count": 21,
      "outputs": [
        {
          "output_type": "execute_result",
          "data": {
            "text/plain": [
              "2**x + 4*x**2 - 12"
            ],
            "text/latex": "$\\displaystyle 2^{x} + 4 x^{2} - 12$"
          },
          "metadata": {},
          "execution_count": 21
        }
      ]
    }
  ]
}