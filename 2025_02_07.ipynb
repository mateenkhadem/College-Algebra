{
  "nbformat": 4,
  "nbformat_minor": 0,
  "metadata": {
    "colab": {
      "provenance": [],
      "toc_visible": true,
      "authorship_tag": "ABX9TyNmWF6MjxFVSWqVM5WEaB/G",
      "include_colab_link": true
    },
    "kernelspec": {
      "name": "python3",
      "display_name": "Python 3"
    },
    "language_info": {
      "name": "python"
    }
  },
  "cells": [
    {
      "cell_type": "markdown",
      "metadata": {
        "id": "view-in-github",
        "colab_type": "text"
      },
      "source": [
        "<a href=\"https://colab.research.google.com/github/mateenkhadem/College-Algebra/blob/main/2025_02_07.ipynb\" target=\"_parent\"><img src=\"https://colab.research.google.com/assets/colab-badge.svg\" alt=\"Open In Colab\"/></a>"
      ]
    },
    {
      "cell_type": "markdown",
      "source": [
        "Here are 10 algebraic equations I have taken from ChatGPT to solve using SymPy in Google Colab. Each equation is structured in a way that you can easily plug it into your existing code. ChatGPT has provided a variety of linear equations, quadratic equations, and some simple polynomial equations to give you a broad range of problems.\n",
        "\n"
      ],
      "metadata": {
        "id": "leM2D741uG40"
      }
    },
    {
      "cell_type": "markdown",
      "source": [
        "## Linear Equations\n"
      ],
      "metadata": {
        "id": "B7tT_Vq5udJ9"
      }
    },
    {
      "cell_type": "markdown",
      "source": [
        "5*x - 15 = 0\n"
      ],
      "metadata": {
        "id": "YpRSZtg-ul1c"
      }
    },
    {
      "cell_type": "code",
      "source": [
        "import sympy\n",
        "from sympy import symbols, Eq, solve\n",
        "\n",
        "x = symbols('x')\n",
        "equation = Eq(5*x - 15, 0)\n",
        "solution = solve(equation, x)\n",
        "print(solution)"
      ],
      "metadata": {
        "colab": {
          "base_uri": "https://localhost:8080/"
        },
        "id": "LIJf7oFPuqIk",
        "outputId": "3c95afa9-5d73-4247-80f6-5e37aec5b223"
      },
      "execution_count": 6,
      "outputs": [
        {
          "output_type": "stream",
          "name": "stdout",
          "text": [
            "[3]\n"
          ]
        }
      ]
    },
    {
      "cell_type": "markdown",
      "source": [
        "3*x + 9 = 0\n"
      ],
      "metadata": {
        "id": "kdJ1_kaCvGUR"
      }
    },
    {
      "cell_type": "code",
      "source": [
        "import sympy\n",
        "from sympy import symbols, Eq, solve\n",
        "\n",
        "x = symbols('x')\n",
        "equation = Eq(3*x + 9, 0)\n",
        "solution = solve(equation, x)\n",
        "print(solution)"
      ],
      "metadata": {
        "colab": {
          "base_uri": "https://localhost:8080/"
        },
        "id": "SXnW6luuvLmr",
        "outputId": "3fa83e91-e089-422f-a175-3fabedca241c"
      },
      "execution_count": 8,
      "outputs": [
        {
          "output_type": "stream",
          "name": "stdout",
          "text": [
            "[-3]\n"
          ]
        }
      ]
    },
    {
      "cell_type": "markdown",
      "source": [
        "7*x - 21 = 0\n"
      ],
      "metadata": {
        "id": "LRWmHJAiwE5O"
      }
    },
    {
      "cell_type": "code",
      "source": [
        "import sympy\n",
        "from sympy import symbols, Eq, solve\n",
        "\n",
        "x = symbols('x')\n",
        "equation = Eq(7*x - 21, 0)\n",
        "solution = solve(equation, x)\n",
        "print(solution)"
      ],
      "metadata": {
        "colab": {
          "base_uri": "https://localhost:8080/"
        },
        "id": "GLc3iCRdwGxW",
        "outputId": "d16af385-043c-4427-8908-6861c9f3e68b"
      },
      "execution_count": 9,
      "outputs": [
        {
          "output_type": "stream",
          "name": "stdout",
          "text": [
            "[3]\n"
          ]
        }
      ]
    },
    {
      "cell_type": "markdown",
      "source": [
        "2*x + 8 = 0"
      ],
      "metadata": {
        "id": "ImmRgurpwSHe"
      }
    },
    {
      "cell_type": "code",
      "source": [
        "import sympy\n",
        "from sympy import symbols, Eq, solve\n",
        "\n",
        "x = symbols('x')\n",
        "equation = Eq(2*x + 8, 0)\n",
        "solution = solve(equation, x)\n",
        "print(solution)\n"
      ],
      "metadata": {
        "colab": {
          "base_uri": "https://localhost:8080/"
        },
        "id": "SIEYBmKMwbDv",
        "outputId": "d6ace854-e73b-42bb-876a-2f0790812656"
      },
      "execution_count": 10,
      "outputs": [
        {
          "output_type": "stream",
          "name": "stdout",
          "text": [
            "[-4]\n"
          ]
        }
      ]
    },
    {
      "cell_type": "markdown",
      "source": [
        "4*x - 20 = 0"
      ],
      "metadata": {
        "id": "FHHvLVszwfoI"
      }
    },
    {
      "cell_type": "code",
      "source": [
        "import sympy\n",
        "from sympy import symbols, Eq, solve\n",
        "\n",
        "x = symbols('x')\n",
        "equation = Eq(4*x - 20, 0)\n",
        "solution = solve(equation, x)\n",
        "print(solution)"
      ],
      "metadata": {
        "colab": {
          "base_uri": "https://localhost:8080/"
        },
        "id": "w2XMeXJNwjcS",
        "outputId": "7f1481ab-b3d4-432e-e918-3c3ed227b1a8"
      },
      "execution_count": 11,
      "outputs": [
        {
          "output_type": "stream",
          "name": "stdout",
          "text": [
            "[5]\n"
          ]
        }
      ]
    },
    {
      "cell_type": "markdown",
      "source": [
        "## Quadratic Equations"
      ],
      "metadata": {
        "id": "eBUpOP59wqxu"
      }
    },
    {
      "cell_type": "markdown",
      "source": [
        "x^2 - 5*x + 6 = 0\n"
      ],
      "metadata": {
        "id": "gCUoQmk8xBQm"
      }
    },
    {
      "cell_type": "code",
      "source": [
        "import sympy\n",
        "from sympy import symbols, Eq, solve\n",
        "\n",
        "x = symbols('x')\n",
        "equation = Eq(x**2 - 5*x + 6, 0)\n",
        "solution = solve(equation, x)\n",
        "print(solution)"
      ],
      "metadata": {
        "id": "GLMoBRTCw-i1"
      },
      "execution_count": null,
      "outputs": []
    },
    {
      "cell_type": "markdown",
      "source": [
        "x^2 + 4*x + 4 = 0\n"
      ],
      "metadata": {
        "id": "EirTkCakxHWe"
      }
    },
    {
      "cell_type": "code",
      "source": [
        "import sympy\n",
        "from sympy import symbols,Eq,solve\n",
        "\n",
        "x = symbols('x')\n",
        "equation = Eq(x**2 + 4*x + 4, 0)\n",
        "solution = solve(equation, x)\n",
        "print(solution)"
      ],
      "metadata": {
        "colab": {
          "base_uri": "https://localhost:8080/"
        },
        "id": "tyRtCmo5xJNY",
        "outputId": "7bbb0033-7d77-4133-92f0-d63c1d13ccf4"
      },
      "execution_count": 12,
      "outputs": [
        {
          "output_type": "stream",
          "name": "stdout",
          "text": [
            "[-2]\n"
          ]
        }
      ]
    },
    {
      "cell_type": "markdown",
      "source": [
        "x^2 - 9 = 0\n"
      ],
      "metadata": {
        "id": "O_oR818RxyyA"
      }
    },
    {
      "cell_type": "code",
      "source": [
        "import sympy\n",
        "from sympy import symbols, Eq, solve\n",
        "\n",
        "x = symbols('x')\n",
        "equation = Eq(x**2 - 9, 0)\n",
        "solution = solve(equation, x)\n",
        "print(solution)"
      ],
      "metadata": {
        "id": "NrIZh1-Bx1pl"
      },
      "execution_count": null,
      "outputs": []
    },
    {
      "cell_type": "markdown",
      "source": [
        "2x^2 - 8x + 6 = 0\n"
      ],
      "metadata": {
        "id": "4lSoqHujx5sJ"
      }
    },
    {
      "cell_type": "code",
      "source": [
        "import sympy\n",
        "from sympy import symbols, Eq, solve\n",
        "\n",
        "x = symbols('x')\n",
        "equation = Eq(2*x**2 - 8*x + 6, 0)\n",
        "solution = solve(equation, x)\n",
        "print(solution)"
      ],
      "metadata": {
        "id": "Hl4WOZz2x8J0"
      },
      "execution_count": null,
      "outputs": []
    },
    {
      "cell_type": "markdown",
      "source": [
        "x^2 + 2*x - 3 = 0\n"
      ],
      "metadata": {
        "id": "FMUfksFyyA20"
      }
    },
    {
      "cell_type": "code",
      "source": [
        "import sympy\n",
        "from sympy import symbols, Eq, solve\n",
        "\n",
        "x = symbols('x')\n",
        "equation = Eq(x**2 + 2*x - 3, 0)\n",
        "solution = solve(equation, x)\n",
        "print(solution)"
      ],
      "metadata": {
        "id": "mD9S-3MuyClH"
      },
      "execution_count": null,
      "outputs": []
    }
  ]
}